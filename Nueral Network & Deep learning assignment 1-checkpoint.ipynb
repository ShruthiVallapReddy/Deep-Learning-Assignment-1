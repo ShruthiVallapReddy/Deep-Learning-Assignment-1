{
 "cells": [
  {
   "cell_type": "code",
   "execution_count": 16,
   "id": "f6250c18",
   "metadata": {},
   "outputs": [
    {
     "name": "stdout",
     "output_type": "stream",
     "text": [
      "python\n",
      "ntyp\n"
     ]
    }
   ],
   "source": [
    "x=input()                # reads input from the console\n",
    "y=x.replace(x[3:5],'')   # removes the selected characters from the string\n",
    "z=y[::-1]                # reverses the string\n",
    "print(z)                 # prints the output\n"
   ]
  },
  {
   "cell_type": "code",
   "execution_count": 17,
   "id": "044a08c1",
   "metadata": {},
   "outputs": [
    {
     "name": "stdout",
     "output_type": "stream",
     "text": [
      "Enter an Integer: 2\n",
      "Enter an Integer: 5\n",
      "Sum of a and b: 7\n",
      "Subtraction of a and b: -3\n",
      "floor division of a and b: 0\n",
      "Exponentiation of a and b: 32\n"
     ]
    }
   ],
   "source": [
    "a=int(input(\"Enter an Integer: \"))          # reads integer a value from the console\n",
    "b = int(input(\"Enter an Integer: \"))        # reads integer b value from the console\n",
    "print(\"Sum of a and b:\",a + b)              # prints addition of a & b\n",
    "print(\"Subtraction of a and b:\",a - b)      # prints subtraction of a & b\n",
    "print(\"floor division of a and b:\",a // b)  # prints floor  division of a & b\n",
    "print(\"Exponentiation of a and b:\", a**b)   # prints Exponentiation of a & b\n"
   ]
  },
  {
   "cell_type": "code",
   "execution_count": 18,
   "id": "f0b530bd",
   "metadata": {},
   "outputs": [
    {
     "name": "stdout",
     "output_type": "stream",
     "text": [
      "python is important programming language\n",
      "pythons is important programming language\n"
     ]
    }
   ],
   "source": [
    "x=input()                         # reads the sentence from the console\n",
    "y=x.replace(\"python\",\"pythons\")   # replace each occurrence of ‘python’ with ‘pythons’.\n",
    "print(y)                          # prints the output\n"
   ]
  },
  {
   "cell_type": "code",
   "execution_count": 19,
   "id": "39cabd93",
   "metadata": {},
   "outputs": [
    {
     "name": "stdout",
     "output_type": "stream",
     "text": [
      "Enter score:69\n",
      "Grade is D\n"
     ]
    }
   ],
   "source": [
    "a=int(input(\"Enter score:\"))                 # reads the value of integer from the console\n",
    "if a>=90 and a<=100: print(\"Grade is A\")\n",
    "elif  a>=80 and a<=89: print(\"Grade is B\")\n",
    "elif a>=70 and a<=79: print(\"Grade is C\")\n",
    "elif a>=60 and a<=69: print(\"Grade is D\")\n",
    "else : print(\"Grade is F\")\n",
    "    "
   ]
  },
  {
   "cell_type": "code",
   "execution_count": null,
   "id": "a974f5b7",
   "metadata": {},
   "outputs": [],
   "source": []
  }
 ],
 "metadata": {
  "kernelspec": {
   "display_name": "Python 3 (ipykernel)",
   "language": "python",
   "name": "python3"
  },
  "language_info": {
   "codemirror_mode": {
    "name": "ipython",
    "version": 3
   },
   "file_extension": ".py",
   "mimetype": "text/x-python",
   "name": "python",
   "nbconvert_exporter": "python",
   "pygments_lexer": "ipython3",
   "version": "3.11.1"
  }
 },
 "nbformat": 4,
 "nbformat_minor": 5
}
